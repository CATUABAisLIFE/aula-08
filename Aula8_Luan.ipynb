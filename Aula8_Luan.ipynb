{
 "cells": [
  {
   "cell_type": "code",
   "execution_count": null,
   "metadata": {},
   "outputs": [],
   "source": []
  },
  {
   "cell_type": "code",
   "execution_count": 34,
   "metadata": {},
   "outputs": [
    {
     "name": "stdout",
     "output_type": "stream",
     "text": [
      "[-3.  5. -0.]\n",
      "\n",
      " [[ 2  1 -3]\n",
      " [-1  3  2]\n",
      " [ 3  1 -3]]\n",
      "\n",
      " [[ 2  1 -3]\n",
      " [ 0  3  0]\n",
      " [ 0  0  1]]\n",
      "[0.83333333 3.33333333 2.        ]\n"
     ]
    }
   ],
   "source": [
    "import numpy as np\n",
    "def matr(a, b):\n",
    "    s=0\n",
    "    n=len(a)\n",
    "    x=np.zeros(3)\n",
    "    for k in range(n-1, -1, -1):\n",
    "        s=0\n",
    "        for j in range(k+1, n, 1):\n",
    "            s=s+a[k][j]*x[j]\n",
    "        x[k]=(b[k]-s)/a[k][k]            \n",
    "    return x\n",
    "def mats(a, b):\n",
    "    n=len(a)\n",
    "    for k in range (0, n-1, 1):\n",
    "        for i in range (k+1, n, 1):\n",
    "            m=a[i][k]/a[k][k]\n",
    "            a[i][k]=0\n",
    "            for j in range (k+1, n, 1):\n",
    "                a[i][j]=a[i][j]-(m*a[k][j])\n",
    "                b[i]=b[i]-m*b[k]\n",
    "    return a1, b1                \n",
    "m1=np.array([[3, 2, 4], [0, 1/3, 2/3], [0, 0, -8]])\n",
    "m2=np.array([1, 5/3, 0])\n",
    "print(matr(m1,m2))\n",
    "m3=np.array([[2, 1, -3], [-1, 3, 2], [3, 1, -3]])\n",
    "m4=np.array([-1, 12, 0])\n",
    "print('\\n', m3)\n",
    "a1, b1=mats(m3, m4)\n",
    "print('\\n', m3)\n",
    "print(matr(m3,m4))"
   ]
  },
  {
   "cell_type": "code",
   "execution_count": null,
   "metadata": {},
   "outputs": [],
   "source": []
  }
 ],
 "metadata": {
  "kernelspec": {
   "display_name": "Python 3",
   "language": "python",
   "name": "python3"
  },
  "language_info": {
   "codemirror_mode": {
    "name": "ipython",
    "version": 3
   },
   "file_extension": ".py",
   "mimetype": "text/x-python",
   "name": "python",
   "nbconvert_exporter": "python",
   "pygments_lexer": "ipython3",
   "version": "3.6.5"
  }
 },
 "nbformat": 4,
 "nbformat_minor": 2
}
